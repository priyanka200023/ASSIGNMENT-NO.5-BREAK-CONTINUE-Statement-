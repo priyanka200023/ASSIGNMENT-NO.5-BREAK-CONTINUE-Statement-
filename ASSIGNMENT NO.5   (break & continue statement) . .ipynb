{
 "cells": [
  {
   "cell_type": "markdown",
   "id": "03d08e12",
   "metadata": {},
   "source": [
    "# break and continue statement"
   ]
  },
  {
   "cell_type": "markdown",
   "id": "781c5570",
   "metadata": {},
   "source": [
    "# Assignment no.5"
   ]
  },
  {
   "cell_type": "markdown",
   "id": "f8f10a90",
   "metadata": {},
   "source": [
    "Q.1)  write a program to print numbers from 1 to 10 ,but stop if the number is 5."
   ]
  },
  {
   "cell_type": "code",
   "execution_count": 5,
   "id": "a60ea65f",
   "metadata": {},
   "outputs": [
    {
     "name": "stdout",
     "output_type": "stream",
     "text": [
      "1\n",
      "2\n",
      "3\n",
      "4\n"
     ]
    }
   ],
   "source": [
    "for number in range(1,11):\n",
    "    if number ==5:\n",
    "        break\n",
    "        \n",
    "    print(number)    "
   ]
  },
  {
   "cell_type": "markdown",
   "id": "81a72d79",
   "metadata": {},
   "source": [
    "Q.2) write a program to iterate through a list and stop when encountering a specific element"
   ]
  },
  {
   "cell_type": "code",
   "execution_count": 14,
   "id": "64d48e23",
   "metadata": {},
   "outputs": [
    {
     "name": "stdout",
     "output_type": "stream",
     "text": [
      "1\n",
      "2\n",
      "3\n",
      "4\n",
      "5\n"
     ]
    }
   ],
   "source": [
    "my_list = [1,2,3,4,5,6,7,8,9,10]\n",
    "#iterate\n",
    "\n",
    "for element in my_list:\n",
    "        if element ==6:\n",
    "            break\n",
    "        print(element)      "
   ]
  },
  {
   "cell_type": "markdown",
   "id": "614de87c",
   "metadata": {},
   "source": [
    "Q.3) write a program to skip printing even number from 1 to 10.\n"
   ]
  },
  {
   "cell_type": "code",
   "execution_count": 17,
   "id": "559a96d5",
   "metadata": {},
   "outputs": [
    {
     "name": "stdout",
     "output_type": "stream",
     "text": [
      "1\n",
      "3\n",
      "5\n",
      "7\n",
      "9\n"
     ]
    }
   ],
   "source": [
    "# program to print odd number from 1 to 10\n",
    "\n",
    "for number in range(1,11):\n",
    "    if number % 2 !=0:\n",
    "        print(number)"
   ]
  },
  {
   "cell_type": "markdown",
   "id": "66a31263",
   "metadata": {},
   "source": [
    "Q.4) write a program to print number from 0 to 9 using range()"
   ]
  },
  {
   "cell_type": "code",
   "execution_count": 18,
   "id": "eff5f6ad",
   "metadata": {},
   "outputs": [
    {
     "name": "stdout",
     "output_type": "stream",
     "text": [
      "0\n",
      "1\n",
      "2\n",
      "3\n",
      "4\n",
      "5\n",
      "6\n",
      "7\n",
      "8\n",
      "9\n"
     ]
    }
   ],
   "source": [
    "# program to print number from 0 to 9\n",
    "\n",
    "for number in range(10):\n",
    "    print(number)"
   ]
  },
  {
   "cell_type": "markdown",
   "id": "29b2fe62",
   "metadata": {},
   "source": [
    "Q.5) write a program to print multiplication table from 1 to 5, but stop after the first table is printed for each number."
   ]
  },
  {
   "cell_type": "code",
   "execution_count": 20,
   "id": "57dfc75f",
   "metadata": {},
   "outputs": [
    {
     "name": "stdout",
     "output_type": "stream",
     "text": [
      "1 * 1 = 1\n",
      "1 * 2 = 2\n",
      "1 * 3 = 3\n",
      "1 * 4 = 4\n",
      "1 * 5 = 5\n",
      "1 * 6 = 6\n",
      "1 * 7 = 7\n",
      "1 * 8 = 8\n",
      "1 * 9 = 9\n",
      "1 * 10 = 10\n",
      "\n",
      "2 * 1 = 2\n",
      "2 * 2 = 4\n",
      "2 * 3 = 6\n",
      "2 * 4 = 8\n",
      "2 * 5 = 10\n",
      "2 * 6 = 12\n",
      "2 * 7 = 14\n",
      "2 * 8 = 16\n",
      "2 * 9 = 18\n",
      "2 * 10 = 20\n",
      "\n",
      "3 * 1 = 3\n",
      "3 * 2 = 6\n",
      "3 * 3 = 9\n",
      "3 * 4 = 12\n",
      "3 * 5 = 15\n",
      "3 * 6 = 18\n",
      "3 * 7 = 21\n",
      "3 * 8 = 24\n",
      "3 * 9 = 27\n",
      "3 * 10 = 30\n",
      "\n",
      "4 * 1 = 4\n",
      "4 * 2 = 8\n",
      "4 * 3 = 12\n",
      "4 * 4 = 16\n",
      "4 * 5 = 20\n",
      "4 * 6 = 24\n",
      "4 * 7 = 28\n",
      "4 * 8 = 32\n",
      "4 * 9 = 36\n",
      "4 * 10 = 40\n",
      "\n",
      "5 * 1 = 5\n",
      "5 * 2 = 10\n",
      "5 * 3 = 15\n",
      "5 * 4 = 20\n",
      "5 * 5 = 25\n",
      "5 * 6 = 30\n",
      "5 * 7 = 35\n",
      "5 * 8 = 40\n",
      "5 * 9 = 45\n",
      "5 * 10 = 50\n",
      "\n"
     ]
    }
   ],
   "source": [
    "#loop through number 1 to 5\n",
    "\n",
    "for i in range(1,6):\n",
    "    #print the multiplication table for the current number.\n",
    "    for j in range(1,11):\n",
    "        print(f\"{i} * {j} = {i * j}\")\n",
    "    #after printing the table for the current number, add a newline before the next table.\n",
    "    print()"
   ]
  },
  {
   "cell_type": "markdown",
   "id": "84bc55aa",
   "metadata": {},
   "source": [
    "Q.6) write a program to skip printing even number using while loop"
   ]
  },
  {
   "cell_type": "code",
   "execution_count": 21,
   "id": "f71616ad",
   "metadata": {},
   "outputs": [
    {
     "name": "stdout",
     "output_type": "stream",
     "text": [
      "1\n",
      "3\n",
      "5\n",
      "7\n",
      "9\n"
     ]
    }
   ],
   "source": [
    "\n",
    "\n",
    "# Start with the number 1\n",
    "number = 1\n",
    "\n",
    "# Continue looping until the number exceeds 10\n",
    "while number <= 10:\n",
    "    # Check if the number is odd\n",
    "    if number % 2 != 0:\n",
    "        print(number)\n",
    "    # Increment the number by 1\n",
    "    number += 1"
   ]
  },
  {
   "cell_type": "code",
   "execution_count": null,
   "id": "27fe2404",
   "metadata": {},
   "outputs": [],
   "source": []
  }
 ],
 "metadata": {
  "kernelspec": {
   "display_name": "Python 3 (ipykernel)",
   "language": "python",
   "name": "python3"
  },
  "language_info": {
   "codemirror_mode": {
    "name": "ipython",
    "version": 3
   },
   "file_extension": ".py",
   "mimetype": "text/x-python",
   "name": "python",
   "nbconvert_exporter": "python",
   "pygments_lexer": "ipython3",
   "version": "3.11.5"
  }
 },
 "nbformat": 4,
 "nbformat_minor": 5
}
